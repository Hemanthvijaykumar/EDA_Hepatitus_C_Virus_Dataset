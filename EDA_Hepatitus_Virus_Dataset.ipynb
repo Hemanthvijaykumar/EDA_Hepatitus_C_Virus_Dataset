{
 "cells": [
  {
   "cell_type": "code",
   "execution_count": 10,
   "metadata": {},
   "outputs": [],
   "source": [
    "import pandas as pd\n",
    "import numpy as np\n",
    "\n",
    "# Reading the dataset:\n",
    "df = pd.read_csv('HCV_Data.csv')"
   ]
  },
  {
   "cell_type": "code",
   "execution_count": 2,
   "metadata": {},
   "outputs": [
    {
     "data": {
      "text/plain": [
       "'Male'"
      ]
     },
     "execution_count": 2,
     "metadata": {},
     "output_type": "execute_result"
    }
   ],
   "source": [
    "#Q1.Write a function to return the gender which has the most fever rates.\n",
    "#Note:\n",
    "#Return Female if both genders have the same amount of fever rates.\n",
    "def most_gender_fever1(df):\n",
    "    \n",
    "    '''\n",
    "    Input: Dataframe df\n",
    "    Output: val (Gender which has the most fever rates)\n",
    "    '''\n",
    "    df_fever = df[df.Fever == 'Present']\n",
    "    df_Male = df_fever[df_fever.Gender == 'Male']\n",
    "    df_Female = df_fever[df_fever.Gender == 'Female']\n",
    "    if df_Male.Gender.count() > df_Female.Gender.count():\n",
    "        val = 'Male'\n",
    "    else:\n",
    "        val = 'Female'\n",
    "    return val\n",
    "\n",
    "\n",
    "most_gender_fever1(df)"
   ]
  },
  {
   "cell_type": "code",
   "execution_count": 3,
   "metadata": {},
   "outputs": [
    {
     "data": {
      "text/plain": [
       "28.988"
      ]
     },
     "execution_count": 3,
     "metadata": {},
     "output_type": "execute_result"
    }
   ],
   "source": [
    "#Q2. Write a function that returns the average BMI for the people who have Nausea/Vomiting, Diarrhea and Jaundice.\n",
    "#Note:\n",
    "#Return the average rounded off to three decimal places.\n",
    "def average_bmi2(df):\n",
    "    '''\n",
    "    Input: Dataframe df\n",
    "    Output: val (average BMI for the people who have Nausea/Vomiting, Diarrhea and Jaundice)\n",
    "    '''\n",
    "    df_sick = df[(df['Nausea/Vomiting'] == 'Present') & (df['Diarrhea'] == 'Present') & (df['Jaundice'] == 'Present')]\n",
    "    val = round(df_sick.BMI.mean(),3)\n",
    "    return val\n",
    "\n",
    "average_bmi2(df)"
   ]
  },
  {
   "cell_type": "code",
   "execution_count": 4,
   "metadata": {},
   "outputs": [
    {
     "data": {
      "text/plain": [
       "[227, 983, 533, 475, 606, 1379, 1028, 887]"
      ]
     },
     "execution_count": 4,
     "metadata": {},
     "output_type": "execute_result"
    }
   ],
   "source": [
    "#Q3. Write a function that returns the Patient_id as a list who have maximum Baseline histological Grading, Baselinehistological staging.\n",
    "def patient_id_maximum3(df):\n",
    "    \n",
    "    '''\n",
    "    Input: Dataframe df\n",
    "    Output: list3 \n",
    "    \n",
    "    '''\n",
    "    df_Baseline = df[(df['Baseline histological Grading'] == 16) & (df['Baselinehistological staging'] == 4)]\n",
    "    list3 = df_Baseline['Patient_id'].to_list()\n",
    "    list3.sort\n",
    "    \n",
    "    return list3\n",
    "\n",
    "patient_id_maximum3(df)"
   ]
  },
  {
   "cell_type": "code",
   "execution_count": 5,
   "metadata": {},
   "outputs": [
    {
     "data": {
      "text/plain": [
       "[0, 160, 210, 322]"
      ]
     },
     "execution_count": 5,
     "metadata": {},
     "output_type": "execute_result"
    }
   ],
   "source": [
    "#Q4. Write a function that returns the list containing the number of patients in each range of BMI.\n",
    "\n",
    "#BMI Chart:\n",
    "#Under_Weight: < 19\n",
    "#Healthy: 19 to 24(inclusive)\n",
    "#Over_Weight:25 to 29(inclusive)\n",
    "#Obese: >= 30\n",
    "\n",
    "#Note:\n",
    "#Return the list elements in the order [Under_Weight,Healthy,Over_Weight,Obese]\n",
    "\n",
    "def bmi_grouping4(df):\n",
    "    \n",
    "    '''\n",
    "    Input: Dataframe df\n",
    "    Output: list4\n",
    "    \n",
    "    '''\n",
    "    Under_Weight = df[(df['BMI'] < 19)]\n",
    "    Healthy = df[(df['BMI'] >= 19) & (df['BMI'] <= 24)]\n",
    "    Over_Weight = df[(df['BMI'] >= 25) & (df['BMI'] <= 29)]\n",
    "    Obese = df[(df['BMI'] >= 30)]\n",
    "    list4 = [Under_Weight.Patient_id.count(),Healthy.Patient_id.count(),Over_Weight.Patient_id.count(),Obese.Patient_id.count()]\n",
    "    return list4\n",
    "\n",
    "bmi_grouping4(df)"
   ]
  },
  {
   "cell_type": "code",
   "execution_count": 6,
   "metadata": {},
   "outputs": [
    {
     "data": {
      "text/plain": [
       "23.12"
      ]
     },
     "execution_count": 6,
     "metadata": {},
     "output_type": "execute_result"
    }
   ],
   "source": [
    "#Q5. Write a function that returns the percentage of patients having healthy BMI.\n",
    "\n",
    "#Note:\n",
    "#Return the percentage rounded off to two decimal places.\n",
    "\n",
    "def bmi_healthy5(df):\n",
    "    '''\n",
    "    Input: Dataframe df\n",
    "    Output: val (Percentage)\n",
    "    '''\n",
    "    Healthy = df[(df['BMI'] >= 19) & (df['BMI'] <= 24)]\n",
    "    val= round((Healthy.Patient_id.count() / df.Patient_id.count()) * 100 , 2)\n",
    "    return val\n",
    "\n",
    "bmi_healthy5(df)"
   ]
  },
  {
   "cell_type": "code",
   "execution_count": 7,
   "metadata": {},
   "outputs": [
    {
     "data": {
      "text/plain": [
       "127"
      ]
     },
     "execution_count": 7,
     "metadata": {},
     "output_type": "execute_result"
    }
   ],
   "source": [
    "#Q6. Write a function that finds the Age group with most number of patients and returns the number of patients in that group.\n",
    "\n",
    "#Divide the Groups of Age with a period of 5 years like\n",
    "# 1 to 5\n",
    "# 6 to 10\n",
    "# 11 to 15\n",
    "# 16 to 20 \n",
    "# and so on.\n",
    "\n",
    "\n",
    "def most_patients6(df):\n",
    "    '''\n",
    "    Input: Dataframe df\n",
    "    Output: val (number of patients in that group)\n",
    "    '''\n",
    "    df_age30_35 = df[(df['Age'] >= 30) & (df['Age'] <= 35)]\n",
    "    df_age36_40 = df[(df['Age'] >= 36) & (df['Age'] <= 40)]\n",
    "    df_age41_45 = df[(df['Age'] >= 41) & (df['Age'] <= 45)]\n",
    "    df_age46_50 = df[(df['Age'] >= 46) & (df['Age'] <= 50)]\n",
    "    df_age51_55 = df[(df['Age'] >= 51) & (df['Age'] <= 55)]\n",
    "    df_age56_60 = df[(df['Age'] >= 56) & (df['Age'] <= 60)]\n",
    "    val= df_age56_60.Age.count()\n",
    "    return val\n",
    "\n",
    "most_patients6(df)"
   ]
  },
  {
   "cell_type": "code",
   "execution_count": 8,
   "metadata": {},
   "outputs": [
    {
     "data": {
      "text/plain": [
       "[27, 22]"
      ]
     },
     "execution_count": 8,
     "metadata": {},
     "output_type": "execute_result"
    }
   ],
   "source": [
    "#Q7. Write a function that returns the Number of alcohlic liver disease cases in Male & Female.\n",
    "\n",
    "#If the ratio of 'aspartate transaminase' to 'alanine transaminase' is 2:1 or more then it is an Alcohlic liver disease\n",
    "#So,\n",
    "#If 'AST 1' divided by 'ALT 1' is greater than 2 then it is an Alcohlic liver disease\n",
    "\n",
    "#Note:\n",
    "#Return the list elements in the order [Male,Female]\n",
    "\n",
    "def alcoholic_liver_disease7(df):\n",
    "    '''\n",
    "    Input: Dataframe df\n",
    "    Output: list7 \n",
    "    '''\n",
    "    df['ALS'] = df['AST 1'] / df['ALT 1']\n",
    "    df_ALS = df[(df['ALS'] > 2)]\n",
    "    df_ALS_Male = df_ALS[(df_ALS['Gender'] == 'Male')]\n",
    "    df_ALS_Female = df_ALS[(df_ALS['Gender'] == 'Female')]\n",
    "    list7=[df_ALS_Male.Patient_id.count(),df_ALS_Female.Patient_id.count()]\n",
    "    \n",
    "    return list7\n",
    "\n",
    "alcoholic_liver_disease7(df)"
   ]
  },
  {
   "cell_type": "code",
   "execution_count": 9,
   "metadata": {},
   "outputs": [
    {
     "data": {
      "text/plain": [
       "45.77"
      ]
     },
     "execution_count": 9,
     "metadata": {},
     "output_type": "execute_result"
    }
   ],
   "source": [
    "#Q8. Write a function that returns the Percentage of people less than age 40 who are in critical stage of cancer development\n",
    "\n",
    "#'Baseline histological Grading' refers to how abnormal the cancer cells are at present.Higher the grade,worse the situation is.\n",
    "#Here,the critical stage refers to the grade greater than '10'.\n",
    "\n",
    "#Note:\n",
    "#Find the percentage out of the patients under age 40 and round off upto two decimal places.\n",
    "\n",
    "def cancer_development8(df):\n",
    "    '''\n",
    "    Input: Dataframe df\n",
    "    Output: val\n",
    "    '''\n",
    "    df_40 = df[(df['Age'] < 40)]\n",
    "    df_40_Critical = df_40[(df_40['Baseline histological Grading'] > 10)]\n",
    "    val= round(((df_40_Critical.Patient_id.count() / df_40.Patient_id.count()) *100),2)\n",
    "    return val\n",
    "\n",
    "cancer_development8(df)"
   ]
  },
  {
   "cell_type": "code",
   "execution_count": null,
   "metadata": {},
   "outputs": [],
   "source": []
  }
 ],
 "metadata": {
  "kernelspec": {
   "display_name": "Python 3",
   "language": "python",
   "name": "python3"
  },
  "language_info": {
   "codemirror_mode": {
    "name": "ipython",
    "version": 3
   },
   "file_extension": ".py",
   "mimetype": "text/x-python",
   "name": "python",
   "nbconvert_exporter": "python",
   "pygments_lexer": "ipython3",
   "version": "3.7.6"
  }
 },
 "nbformat": 4,
 "nbformat_minor": 4
}
